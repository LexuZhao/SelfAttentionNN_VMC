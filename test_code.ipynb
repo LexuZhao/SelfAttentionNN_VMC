{
 "cells": [
  {
   "cell_type": "code",
   "execution_count": 6,
   "id": "f20a42ff",
   "metadata": {},
   "outputs": [
    {
     "ename": "ImportError",
     "evalue": "cannot import name 'energy_static' from 'moire_model' (/Users/gavinzhao/Desktop/SelfAttentionNN_VMC/moire_model.py)",
     "output_type": "error",
     "traceback": [
      "\u001b[0;31m---------------------------------------------------------------------------\u001b[0m",
      "\u001b[0;31mImportError\u001b[0m                               Traceback (most recent call last)",
      "Cell \u001b[0;32mIn[6], line 2\u001b[0m\n\u001b[1;32m      1\u001b[0m \u001b[38;5;28;01mimport\u001b[39;00m \u001b[38;5;21;01mnumpy\u001b[39;00m \u001b[38;5;28;01mas\u001b[39;00m \u001b[38;5;21;01mnp\u001b[39;00m\u001b[38;5;241m,\u001b[39m \u001b[38;5;21;01mmatplotlib\u001b[39;00m\u001b[38;5;21;01m.\u001b[39;00m\u001b[38;5;21;01mpyplot\u001b[39;00m \u001b[38;5;28;01mas\u001b[39;00m \u001b[38;5;21;01mplt\u001b[39;00m\n\u001b[0;32m----> 2\u001b[0m \u001b[38;5;28;01mfrom\u001b[39;00m \u001b[38;5;21;01mmoire_model\u001b[39;00m \u001b[38;5;28;01mimport\u001b[39;00m energy_static, a_m            \u001b[38;5;66;03m# same as before\u001b[39;00m\n\u001b[1;32m      3\u001b[0m \u001b[38;5;28;01mfrom\u001b[39;00m \u001b[38;5;21;01mvmc_core\u001b[39;00m    \u001b[38;5;28;01mimport\u001b[39;00m VMC\n\u001b[1;32m      4\u001b[0m \u001b[38;5;28;01mfrom\u001b[39;00m \u001b[38;5;21;01mwf_gaussian\u001b[39;00m \u001b[38;5;28;01mimport\u001b[39;00m GaussianWF\n",
      "\u001b[0;31mImportError\u001b[0m: cannot import name 'energy_static' from 'moire_model' (/Users/gavinzhao/Desktop/SelfAttentionNN_VMC/moire_model.py)"
     ]
    }
   ],
   "source": [
    "import numpy as np, matplotlib.pyplot as plt\n",
    "from moire_model import energy_static, a_m            # same as before\n",
    "from vmc_core    import VMC\n",
    "from wf_gaussian import GaussianWF\n",
    "\n",
    "np.random.seed(0)\n",
    "\n",
    "wf  = GaussianWF(N_e=6, alpha0=0.05)\n",
    "vmc = VMC(wf, energy_static, box_length=a_m)\n",
    "\n",
    "E_curve=[]\n",
    "for it in range(40):\n",
    "    E, grad, pars = vmc.step(n_cfg=600, lr=1e-4)\n",
    "    print(f\"{it:02d}  E = {E:9.3f}  α = {np.exp(pars[0]):.4f}\")\n",
    "    E_curve.append(E)\n",
    "\n",
    "plt.plot(E_curve, marker=\"o\"); plt.grid(alpha=.3)\n",
    "plt.ylabel(\"⟨E⟩  (meV)\"); plt.xlabel(\"iteration\")\n",
    "plt.title(\"Gaussian VMC (engine-agnostic)\")\n",
    "plt.show()\n",
    "# The code above is a simple VMC simulation using a Gaussian wave function."
   ]
  }
 ],
 "metadata": {
  "kernelspec": {
   "display_name": "Python 3",
   "language": "python",
   "name": "python3"
  },
  "language_info": {
   "codemirror_mode": {
    "name": "ipython",
    "version": 3
   },
   "file_extension": ".py",
   "mimetype": "text/x-python",
   "name": "python",
   "nbconvert_exporter": "python",
   "pygments_lexer": "ipython3",
   "version": "3.11.2"
  }
 },
 "nbformat": 4,
 "nbformat_minor": 5
}
